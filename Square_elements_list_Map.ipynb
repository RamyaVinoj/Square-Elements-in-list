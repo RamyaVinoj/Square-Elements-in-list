{
 "cells": [
  {
   "cell_type": "code",
   "execution_count": 7,
   "id": "b4b545a0",
   "metadata": {},
   "outputs": [
    {
     "name": "stdout",
     "output_type": "stream",
     "text": [
      "Enter number of elements in list:5\n",
      "Enter the no: 4\n",
      "Enter the no: 5\n",
      "Enter the no: 2\n",
      "Enter the no: 9\n",
      "Enter the no: 10\n",
      "The list is: [4, 5, 2, 9, 10]\n",
      "square is: [16, 25, 4, 81, 100]\n"
     ]
    }
   ],
   "source": [
    "l=[]\n",
    "n=int(input(\"Enter number of elements in list:\"))\n",
    "for i in range(n):\n",
    "    a=int(input(\"Enter the no: \"))\n",
    "    b=l.append(a)\n",
    "print(\"The list is:\",l)\n",
    "x=map((lambda l:l**2),l)\n",
    "print(\"square is:\",list(x))"
   ]
  },
  {
   "cell_type": "code",
   "execution_count": null,
   "id": "0a5aeb42",
   "metadata": {},
   "outputs": [],
   "source": []
  },
  {
   "cell_type": "code",
   "execution_count": null,
   "id": "1fb28e9c",
   "metadata": {},
   "outputs": [],
   "source": []
  }
 ],
 "metadata": {
  "kernelspec": {
   "display_name": "Python 3 (ipykernel)",
   "language": "python",
   "name": "python3"
  },
  "language_info": {
   "codemirror_mode": {
    "name": "ipython",
    "version": 3
   },
   "file_extension": ".py",
   "mimetype": "text/x-python",
   "name": "python",
   "nbconvert_exporter": "python",
   "pygments_lexer": "ipython3",
   "version": "3.10.0"
  }
 },
 "nbformat": 4,
 "nbformat_minor": 5
}
